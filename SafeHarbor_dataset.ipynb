{
 "cells": [
  {
   "cell_type": "markdown",
   "metadata": {},
   "source": [
    "## SafeHarbor Project "
   ]
  },
  {
   "cell_type": "markdown",
   "metadata": {},
   "source": [
    "#### DATA SCRAPING"
   ]
  },
  {
   "cell_type": "code",
   "execution_count": 4,
   "metadata": {},
   "outputs": [],
   "source": [
    "import time\n",
    "import pandas as pd\n",
    "import numpy as np\n",
    "import datetime\n",
    "from pycoingecko import CoinGeckoAPI\n",
    "cg = CoinGeckoAPI() #pip install pycoingecko"
   ]
  },
  {
   "cell_type": "code",
   "execution_count": 14,
   "metadata": {},
   "outputs": [],
   "source": [
    "data=cg.get_coins_markets(vs_currency='usd')\n",
    "data_coins=pd.DataFrame(data,columns=['id','market_cap'])\n",
    "coins=data_coins['id'].iloc[0:21]"
   ]
  },
  {
   "cell_type": "code",
   "execution_count": 45,
   "metadata": {},
   "outputs": [],
   "source": [
    "# Old date for scraping\n",
    "Year_start= 2021\n",
    "Month_start= 12\n",
    "Day_start= 31\n",
    "Hour_start= 1\n",
    "Minute_start= 0\n",
    "\n",
    "# New date for scraping\n",
    "Year_end= 2022\n",
    "Month_end= 11 \n",
    "Day_end= 8\n",
    "Hour_end= 1\n",
    "Minute_end= 0"
   ]
  },
  {
   "cell_type": "code",
   "execution_count": 55,
   "metadata": {},
   "outputs": [],
   "source": [
    "def scrape_historical_series(coin_names):\n",
    "    \"\"\" Scrape historical series on the sample of coins.\n",
    "\n",
    "        Args:\n",
    "            coin_names(list): List of coins we will use for training.\n",
    "\n",
    "        Returns:\n",
    "            Dataframe with the evolution of prices, market capitalizaiton, and total volume over time, for each respective currency.\n",
    "        \"\"\"\n",
    "\n",
    "    df_ts_coins1=pd.DataFrame()\n",
    "\n",
    "    #DATE definitions\n",
    "    date_time = datetime.datetime(Year_start,Month_start,Day_start) \n",
    "    date_time_now = datetime.datetime(Year_end, Month_end, Day_end)\n",
    "    unix_past=time.mktime(date_time.timetuple()) #change the date format into unix for scraping\n",
    "    unix_now=time.mktime(date_time_now.timetuple())\n",
    "    past=datetime.datetime(Year_start, Month_start, Day_start).strftime('%Y-%m-%d')\n",
    "    now=datetime.datetime(Year_end, Month_end, Day_end).strftime('%Y-%m-%d')\n",
    "    datum_range=pd.date_range(start=past,end=now, freq='D')\n",
    "\n",
    "    #empty lists\n",
    "    unix_all=[]\n",
    "    coins_names=[]\n",
    "    #empty dataframe\n",
    "    df_all=pd.DataFrame()\n",
    "\n",
    "    #create date variable\n",
    "    for val in datum_range:\n",
    "        unix_all=np.append(unix_all,time.mktime(val.timetuple()))\n",
    "\n",
    "    for coin in pd.unique(coin_names):\n",
    "        time.sleep(5)\n",
    "        data=cg.get_coin_market_chart_range_by_id(id=coin,vs_currency='usd',include_market_cap='true', include_24hr_vol='true', from_timestamp=unix_past,to_timestamp=unix_now)\n",
    "        prices=pd.DataFrame(data['prices'],columns=['date','prices'])\n",
    "        market=pd.DataFrame(data['market_caps'],columns=['date','market_caps'])\n",
    "        volume=pd.DataFrame(data['total_volumes'],columns=['date','total_vol'])\n",
    "        currency_name=pd.DataFrame({'coin':np.repeat(coin,len(prices))})\n",
    "        ts_coins=pd.concat([currency_name,prices,market.iloc[:,1],volume.iloc[:,1]],axis=1)\n",
    "\n",
    "        date_all=[]\n",
    "\n",
    "        #create date variable\n",
    "        for val in ts_coins['date']:\n",
    "            date_all=np.append(date_all,((datetime.datetime.fromtimestamp(int(val)/1000)).strftime('%m/%d/%y, %H:%M:%S')))\n",
    "        dates=pd.to_datetime(date_all, format='%m/%d/%y, %H:%M:%S')\n",
    "        \n",
    "        #set date as an index\n",
    "        ts_coins['dates']=dates\n",
    "        ts_coins=ts_coins.set_index('dates')\n",
    "        ts_coins=ts_coins.drop(columns=['date'])\n",
    "\n",
    "        #aggreggate hourly data to daily\n",
    "        ts_coins=ts_coins.groupby([pd.Grouper(freq='D'), 'coin']).mean()\n",
    "\n",
    "        df_all=pd.concat([df_all,ts_coins])\n",
    "    return df_all"
   ]
  },
  {
   "cell_type": "code",
   "execution_count": 56,
   "metadata": {},
   "outputs": [],
   "source": [
    "dataset=scrape_historical_series(coins)"
   ]
  },
  {
   "cell_type": "code",
   "execution_count": 58,
   "metadata": {},
   "outputs": [],
   "source": [
    "dataset.to_csv('SafeHarbor_coins.csv')"
   ]
  },
  {
   "cell_type": "code",
   "execution_count": null,
   "metadata": {},
   "outputs": [],
   "source": []
  }
 ],
 "metadata": {
  "kernelspec": {
   "display_name": "Python 3.10.5 64-bit ('myenv')",
   "language": "python",
   "name": "python3"
  },
  "language_info": {
   "codemirror_mode": {
    "name": "ipython",
    "version": 3
   },
   "file_extension": ".py",
   "mimetype": "text/x-python",
   "name": "python",
   "nbconvert_exporter": "python",
   "pygments_lexer": "ipython3",
   "version": "3.10.5"
  },
  "orig_nbformat": 4,
  "vscode": {
   "interpreter": {
    "hash": "024276540305e579badb0706be1e2bc23d4785372e8fb3a00f3945cae93e712f"
   }
  }
 },
 "nbformat": 4,
 "nbformat_minor": 2
}
